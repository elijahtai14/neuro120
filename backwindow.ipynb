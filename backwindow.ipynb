{
 "cells": [
  {
   "cell_type": "code",
   "execution_count": 45,
   "metadata": {},
   "outputs": [],
   "source": [
    "# all imports\n",
    "import numpy as np\n",
    "import pickle\n",
    "from scipy.stats import zscore\n",
    "\n",
    "from sklearn.linear_model import LinearRegression\n",
    "\n",
    "# from sklearn.linear_model import Ridge\n",
    "# from sklearn.model_selection import GridSearchCV\n",
    "# from sklearn.decomposition import PCA\n",
    "# import matplotlib.pyplot as plt\n"
   ]
  },
  {
   "cell_type": "code",
   "execution_count": 46,
   "metadata": {},
   "outputs": [
    {
     "name": "stdout",
     "output_type": "stream",
     "text": [
      "responses: (11983 neurons x 7018 timebins) responses for each neuron at each time \n",
      "run_speed: (7018 timebins x 1) run speed for mouse at each time \n",
      "neuron_pos: (11983 neurons x 3) xyz position for each neuron \n",
      "pupil_area: (7018 timebins x 1) area of pupil for mouse at each time \n",
      "pupil_pos: (7018 timebins x 2) xy position of pupil for mouse at each time \n",
      "behavior_embedding: (7018 timebins x 1000) the behavior embedded in a vector size 1000 at each time \n",
      "movie: (7018 timebins x 240 x 320) the behavior movie at each time (corresponding to the embedding) \n",
      "movie_mask: (240 x 320 x 1) a mask to generate the movie, not important \n",
      "info: this text \n",
      "\n"
     ]
    }
   ],
   "source": [
    "data = pickle.load(open('data/dataset.pickle', 'rb'))\n",
    "print(data['info'])"
   ]
  },
  {
   "cell_type": "code",
   "execution_count": 49,
   "metadata": {},
   "outputs": [
    {
     "name": "stdout",
     "output_type": "stream",
     "text": [
      "(7018, 11983)\n",
      "(7015, 4, 11983) "
     ]
    }
   ],
   "source": [
    "from numpy.lib.stride_tricks import sliding_window_view\n",
    "zscored_X = zscore(data['responses'], axis=1).T\n",
    "\n",
    "print(zscored_X.shape)\n",
    "\n",
    "new_bins = [1, 2, 4, 8, 16, 60]\n",
    "new_data = []\n",
    "\n",
    "MAX_POINTS =  zscored_X.shape[0] - np.max(new_bins) + 1 # if we have 100 points and use 60 to predict the current, then we only get 41 data points.\n",
    "\n",
    "for bin in new_bins:\n",
    "    binned = window = np.squeeze(sliding_window_view(zscored_X, window_shape=(bin, zscored_X.shape[1])), axis=1)\n",
    "    new_data.append(binned[:MAX_POINTS,])\n",
    "    \n",
    "# sanity check\n",
    "for binned_data in new_data:\n",
    "    print(f'{binned_data.shape} ', end='')\n",
    "    \n",
    "\n"
   ]
  },
  {
   "cell_type": "code",
   "execution_count": 50,
   "metadata": {},
   "outputs": [],
   "source": [
    "TRAIN_TEST_SPLIT = 6000 \n",
    "\n",
    "regressions = [LinearRegression() for _ in range(len(new_data))]\n",
    "\n",
    "Y = data['pupil_area'][:MAX_POINTS]\n",
    "for reg_i in range(len(regressions)):\n",
    "    bin_size = new_bins[reg_i]\n",
    "    bin_data = new_data[reg_i]\n",
    "    bin_regression = regressions[reg_i]\n",
    "    \n",
    "    # Number of datapoints to train on\n",
    "    X = bin_data.reshape(bin_data.shape[0], bin_data.shape[1] * bin_data.shape[2])\n",
    "    \n",
    "    train_X = X[:TRAIN_TEST_SPLIT,]\n",
    "    train_Y = Y[:TRAIN_TEST_SPLIT]\n",
    "    test_X = X[TRAIN_TEST_SPLIT:,]\n",
    "    test_Y = Y[TRAIN_TEST_SPLIT:]\n",
    "\n",
    "    bin_regression.fit(train_X, train_Y)\n",
    "    \n",
    "    print('bin_size:', bin_size)\n",
    "    print('training score:', bin_regression.score(train_X, train_Y))\n",
    "    print('testing score:', bin_regression.score(test_X, test_Y))\n"
   ]
  },
  {
   "cell_type": "code",
   "execution_count": null,
   "metadata": {},
   "outputs": [],
   "source": []
  }
 ],
 "metadata": {
  "kernelspec": {
   "display_name": "cs120_final_project",
   "language": "python",
   "name": "python3"
  },
  "language_info": {
   "codemirror_mode": {
    "name": "ipython",
    "version": 3
   },
   "file_extension": ".py",
   "mimetype": "text/x-python",
   "name": "python",
   "nbconvert_exporter": "python",
   "pygments_lexer": "ipython3",
   "version": "3.10.8"
  },
  "orig_nbformat": 4,
  "vscode": {
   "interpreter": {
    "hash": "ebd221a2e4f49e77a6f615822bbd21d2f525073dabb95b28aa3cc71b9403dd96"
   }
  }
 },
 "nbformat": 4,
 "nbformat_minor": 2
}
